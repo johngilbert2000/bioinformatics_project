{
 "cells": [
  {
   "cell_type": "markdown",
   "metadata": {},
   "source": [
    "## Setup"
   ]
  },
  {
   "cell_type": "code",
   "execution_count": 1,
   "metadata": {},
   "outputs": [
    {
     "name": "stdout",
     "output_type": "stream",
     "text": [
      "Python 3.7.4\n",
      "tensorflow==2.0.0\n",
      "tensorflow-datasets==1.2.0\n",
      "tensorflow-estimator==2.0.0\n",
      "tensorflow-gpu==2.0.0\n",
      "tensorflow-hub==0.6.0\n",
      "tensorflow-metadata==0.15.0\n",
      "pandas==0.25.1\n",
      "numpy==1.17.2\n",
      "nltk==3.4.5\n",
      "gensim==3.8.1\n",
      "scikit-learn==0.21.3\n"
     ]
    }
   ],
   "source": [
    "# Check your versions\n",
    "!python --version;\n",
    "!pip freeze | grep tensorflow;\n",
    "!pip freeze | grep pandas;\n",
    "!pip freeze | grep numpy;\n",
    "!pip freeze | grep nltk;\n",
    "!pip freeze | grep gensim;\n",
    "!pip freeze | grep scikit-learn;"
   ]
  },
  {
   "cell_type": "code",
   "execution_count": 2,
   "metadata": {},
   "outputs": [],
   "source": [
    "from __future__ import absolute_import, division, print_function, unicode_literals\n",
    "\n",
    "import tensorflow as tf\n",
    "from tensorflow import keras\n",
    "from tensorflow.keras import layers\n",
    "from tensorflow.keras.preprocessing.text import Tokenizer\n",
    "\n",
    "from gensim.models import FastText, Word2Vec\n",
    "from nltk.util import trigrams, ngrams\n",
    "\n",
    "from pathlib import Path\n",
    "import pandas as pd\n",
    "import numpy as np\n",
    "\n",
    "import matplotlib.pyplot as plt\n",
    "from sklearn import metrics\n",
    "from sklearn.model_selection import StratifiedKFold, KFold\n",
    "from sklearn.metrics import confusion_matrix\n",
    "\n",
    "import typing\n",
    "import numbers\n",
    "import os\n",
    "import unittest\n",
    "import random\n",
    "import copy\n",
    "import time"
   ]
  },
  {
   "cell_type": "markdown",
   "metadata": {},
   "source": [
    "### Parameters"
   ]
  },
  {
   "cell_type": "code",
   "execution_count": 3,
   "metadata": {},
   "outputs": [],
   "source": [
    "# DATA PARAMETERS\n",
    "\n",
    "min_recall = 0.9 # recall (sensitivity) used for results\n",
    "splits = 5 # 5 splits means each validation set is 20% of original set, with 80:20 validation:training set ratio\n",
    "path = Path('data')\n",
    "checkpoint_path = Path('data/checkpoints')"
   ]
  },
  {
   "cell_type": "markdown",
   "metadata": {},
   "source": [
    "### Datasets"
   ]
  },
  {
   "cell_type": "code",
   "execution_count": 4,
   "metadata": {},
   "outputs": [
    {
     "data": {
      "text/plain": [
       "202172"
      ]
     },
     "execution_count": 4,
     "metadata": {},
     "output_type": "execute_result"
    }
   ],
   "source": [
    "# Language Model Dataset\n",
    "\n",
    "file = 'protein_without_selection.csv'\n",
    "\n",
    "df_lang = pd.read_csv(path/file, usecols=[2],encoding='latin-1')\n",
    "# df.drop(['Unnamed: 0','id'],axis='columns',inplace=True)\n",
    "\n",
    "df_lang.columns = ['seq']\n",
    "mask = (df_lang['seq'].str.len() >= 30) & (df_lang['seq'].str.len() < 302)  # sequences greater than or equal to 30\n",
    "df_lang = df_lang[mask]\n",
    "df_lang.drop_duplicates(keep=False, inplace=True)\n",
    "\n",
    "len(df_lang)"
   ]
  },
  {
   "cell_type": "code",
   "execution_count": 5,
   "metadata": {},
   "outputs": [
    {
     "data": {
      "text/plain": [
       "550"
      ]
     },
     "execution_count": 5,
     "metadata": {},
     "output_type": "execute_result"
    }
   ],
   "source": [
    "# Classification Set: bacteriocins\n",
    "\n",
    "file_class1 = 'df_classI_30.csv'\n",
    "file_class2 = 'df_classII_30.csv'\n",
    "file_class3 = 'df_classIII_30.csv'\n",
    "\n",
    "df_c1 = pd.read_csv(path/file_class1, usecols=[1], encoding='latin-1')\n",
    "df_c2 = pd.read_csv(path/file_class2, usecols=[1], encoding='latin-1')\n",
    "df_c3 = pd.read_csv(path/file_class3, usecols=[1], encoding='latin-1')\n",
    "\n",
    "df_pos = pd.concat([df_c1, df_c2, df_c3])\n",
    "df_pos.columns = ['seq']\n",
    "mask = (df_pos['seq'].str.len() >= 30) & (df_pos['seq'].str.len() < 302) # sequences greater than or equal to 30\n",
    "df_pos = df_pos[mask]\n",
    "df_pos['target'] = 1\n",
    "df_pos.drop_duplicates(keep='first', inplace=True)\n",
    "\n",
    "len(df_pos)"
   ]
  },
  {
   "cell_type": "code",
   "execution_count": 6,
   "metadata": {},
   "outputs": [
    {
     "data": {
      "text/plain": [
       "(31, 288)"
      ]
     },
     "execution_count": 6,
     "metadata": {},
     "output_type": "execute_result"
    }
   ],
   "source": [
    "# min, max lengths of sequences in df_pos\n",
    "min(len(i) for i in df_pos['seq'].to_numpy()), max(len(i) for i in df_pos['seq'].to_numpy())"
   ]
  },
  {
   "cell_type": "code",
   "execution_count": 7,
   "metadata": {},
   "outputs": [
    {
     "data": {
      "text/plain": [
       "550"
      ]
     },
     "execution_count": 7,
     "metadata": {},
     "output_type": "execute_result"
    }
   ],
   "source": [
    "# Classification Set: non-bacteriocins\n",
    "\n",
    "file_1 = '1.csv'\n",
    "file_2 = '2.csv'\n",
    "file_3 = '3.csv'\n",
    "file_4 = '4.csv'\n",
    "\n",
    "file_5 = '5.csv'\n",
    "file_6 = '6.csv'\n",
    "file_7 = '7.csv'\n",
    "file_8 = '8.csv'\n",
    "\n",
    "df_1 = pd.read_csv(path/file_1, usecols=[2], encoding='latin-1')\n",
    "df_2 = pd.read_csv(path/file_2, usecols=[2], encoding='latin-1')\n",
    "df_3 = pd.read_csv(path/file_3, usecols=[2], encoding='latin-1')\n",
    "df_4 = pd.read_csv(path/file_4, usecols=[2], encoding='latin-1')\n",
    "\n",
    "df_5 = pd.read_csv(path/file_5, usecols=[2], encoding='latin-1')\n",
    "df_6 = pd.read_csv(path/file_6, usecols=[2], encoding='latin-1')\n",
    "df_7 = pd.read_csv(path/file_7, usecols=[2], encoding='latin-1')\n",
    "df_8 = pd.read_csv(path/file_8, usecols=[2], encoding='latin-1')\n",
    "\n",
    "df_neg = pd.concat([df_1,df_2,df_3,df_4,df_5,df_6,df_7,df_8])\n",
    "df_neg.columns = ['seq']\n",
    "mask = (df_neg['seq'].str.len() >= 30) & (df_neg['seq'].str.len() < 352) # sequences greater than or equal to 30\n",
    "df_neg = df_neg[mask]\n",
    "df_neg['target'] = 0\n",
    "df_neg.drop_duplicates(keep='first', inplace=True)\n",
    "\n",
    "df_neg = df_neg[0:len(df_pos)]\n",
    "\n",
    "\n",
    "len(df_neg)"
   ]
  },
  {
   "cell_type": "code",
   "execution_count": 8,
   "metadata": {},
   "outputs": [
    {
     "data": {
      "text/plain": [
       "(33, 351)"
      ]
     },
     "execution_count": 8,
     "metadata": {},
     "output_type": "execute_result"
    }
   ],
   "source": [
    "# min, max lengths of sequences in df_pos\n",
    "min(len(i) for i in df_neg['seq'].to_numpy()), max(len(i) for i in df_neg['seq'].to_numpy())"
   ]
  },
  {
   "cell_type": "code",
   "execution_count": 9,
   "metadata": {},
   "outputs": [],
   "source": [
    "assert len(df_neg) == len(df_pos)"
   ]
  },
  {
   "cell_type": "code",
   "execution_count": 10,
   "metadata": {},
   "outputs": [],
   "source": [
    "# classification sets\n",
    "df_clas = pd.concat([df_pos, df_neg])\n",
    "df_clas = df_clas.iloc[np.random.permutation(len(df_clas))]\n",
    "df_clas.reset_index(drop=True,inplace=True)\n",
    "\n",
    "# CREATE SUBSETS: Training & Validation\n",
    "\n",
    "# Equal length subsets of original dataframe\n",
    "cut_indices = [int(i*(1/splits)*len(df_clas)) for i in range(0,splits+1)] # indices where df is to be cut\n",
    "segment_indices = zip(cut_indices[:-1], cut_indices[1:]) # indices for each cut segment\n",
    "valids = [df_clas[begin:end] for begin,end in segment_indices] # subsets each to be used as validation sets\n",
    "\n",
    "# Training sets for each validation set in valids\n",
    "trains = [pd.concat(valids[1:], axis=0)] # (all sets except for valid set 0 in range(splits))\n",
    "for n in range(1,splits):\n",
    "    trains += [pd.concat(valids[:n]+valids[n+1:], axis=0)] # (all sets except for valid set n in range(splits))\n",
    "\n",
    "# Validation and Training Sets to be used initially\n",
    "validation = valids[0]\n",
    "training = trains[0]"
   ]
  },
  {
   "cell_type": "code",
   "execution_count": 11,
   "metadata": {},
   "outputs": [
    {
     "data": {
      "text/plain": [
       "201746"
      ]
     },
     "execution_count": 11,
     "metadata": {},
     "output_type": "execute_result"
    }
   ],
   "source": [
    "# ensure df_lang has no overlap with df_clas\n",
    "df_lang = pd.concat([df_pos.drop(columns='target'), df_neg.drop(columns='target'), df_lang])\n",
    "df_lang = pd.concat([df_pos.drop(columns='target'), df_neg.drop(columns='target'), df_lang])\n",
    "df_lang.drop_duplicates(keep=False, inplace=True)\n",
    "\n",
    "len(df_lang)"
   ]
  },
  {
   "cell_type": "code",
   "execution_count": 12,
   "metadata": {},
   "outputs": [],
   "source": [
    "# some tests\n",
    "assert len(valids) == len(trains)\n",
    "assert len(valids[0])+len(trains[0])==len(df_clas)\n",
    "\n",
    "assert list(valids[1].index) != list(valids[0].index)\n",
    "assert list(trains[1].index) != list(trains[0].index)\n",
    "\n",
    "for i in range(len(valids)):\n",
    "    assert valids[i].index[0] not in trains[i].index\n",
    "    assert valids[i].index[-1] not in trains[i].index"
   ]
  },
  {
   "cell_type": "code",
   "execution_count": 13,
   "metadata": {},
   "outputs": [
    {
     "data": {
      "text/html": [
       "<div>\n",
       "<style scoped>\n",
       "    .dataframe tbody tr th:only-of-type {\n",
       "        vertical-align: middle;\n",
       "    }\n",
       "\n",
       "    .dataframe tbody tr th {\n",
       "        vertical-align: top;\n",
       "    }\n",
       "\n",
       "    .dataframe thead th {\n",
       "        text-align: right;\n",
       "    }\n",
       "</style>\n",
       "<table border=\"1\" class=\"dataframe\">\n",
       "  <thead>\n",
       "    <tr style=\"text-align: right;\">\n",
       "      <th></th>\n",
       "      <th>seq</th>\n",
       "    </tr>\n",
       "  </thead>\n",
       "  <tbody>\n",
       "    <tr>\n",
       "      <td>0</td>\n",
       "      <td>MAFSAEDVLKEYDRRRRMEALLLSLYYPNDRKLLDYKEWSPPRVQV...</td>\n",
       "    </tr>\n",
       "    <tr>\n",
       "      <td>3</td>\n",
       "      <td>MYQAINPCPQSWYGSPQLEREIVCKMSGAPHYPNYYPVHPNALGGA...</td>\n",
       "    </tr>\n",
       "    <tr>\n",
       "      <td>5</td>\n",
       "      <td>MNAKYDTDQGVGRMLFLGTIGLAVVVGGLMAYGYYYDGKTPSSGTS...</td>\n",
       "    </tr>\n",
       "    <tr>\n",
       "      <td>6</td>\n",
       "      <td>MRYTVLIALQGALLLLLLIDDGQGQSPYPYPGMPCNSSRQCGLGTC...</td>\n",
       "    </tr>\n",
       "    <tr>\n",
       "      <td>7</td>\n",
       "      <td>MQNPLPEVMSPEHDKRTTTPMSKEANKFIRELDKKPGDLAVVSDFV...</td>\n",
       "    </tr>\n",
       "  </tbody>\n",
       "</table>\n",
       "</div>"
      ],
      "text/plain": [
       "                                                 seq\n",
       "0  MAFSAEDVLKEYDRRRRMEALLLSLYYPNDRKLLDYKEWSPPRVQV...\n",
       "3  MYQAINPCPQSWYGSPQLEREIVCKMSGAPHYPNYYPVHPNALGGA...\n",
       "5  MNAKYDTDQGVGRMLFLGTIGLAVVVGGLMAYGYYYDGKTPSSGTS...\n",
       "6  MRYTVLIALQGALLLLLLIDDGQGQSPYPYPGMPCNSSRQCGLGTC...\n",
       "7  MQNPLPEVMSPEHDKRTTTPMSKEANKFIRELDKKPGDLAVVSDFV..."
      ]
     },
     "execution_count": 13,
     "metadata": {},
     "output_type": "execute_result"
    }
   ],
   "source": [
    "df_lang.head()"
   ]
  },
  {
   "cell_type": "code",
   "execution_count": 14,
   "metadata": {},
   "outputs": [
    {
     "data": {
      "text/html": [
       "<div>\n",
       "<style scoped>\n",
       "    .dataframe tbody tr th:only-of-type {\n",
       "        vertical-align: middle;\n",
       "    }\n",
       "\n",
       "    .dataframe tbody tr th {\n",
       "        vertical-align: top;\n",
       "    }\n",
       "\n",
       "    .dataframe thead th {\n",
       "        text-align: right;\n",
       "    }\n",
       "</style>\n",
       "<table border=\"1\" class=\"dataframe\">\n",
       "  <thead>\n",
       "    <tr style=\"text-align: right;\">\n",
       "      <th></th>\n",
       "      <th>seq</th>\n",
       "      <th>target</th>\n",
       "    </tr>\n",
       "  </thead>\n",
       "  <tbody>\n",
       "    <tr>\n",
       "      <td>0</td>\n",
       "      <td>MTQSQETEMDTNENIRSNAQDDVIELSVASVETKGVLPIGNEFMGH...</td>\n",
       "      <td>1</td>\n",
       "    </tr>\n",
       "    <tr>\n",
       "      <td>1</td>\n",
       "      <td>MAASRRLMKELEEIRKCGMKNFRNIQVDEANLLTWQGLIVPDNPPY...</td>\n",
       "      <td>0</td>\n",
       "    </tr>\n",
       "    <tr>\n",
       "      <td>2</td>\n",
       "      <td>MRMSFGLTFKRTAKVHWRANFSQQCSLRSTGLFVPPSPPLDPEKVK...</td>\n",
       "      <td>0</td>\n",
       "    </tr>\n",
       "    <tr>\n",
       "      <td>3</td>\n",
       "      <td>MEKQEQTFVSKISEEELKKLAGGYTEVSPQSTIVCVSLRICNWSLR...</td>\n",
       "      <td>1</td>\n",
       "    </tr>\n",
       "    <tr>\n",
       "      <td>4</td>\n",
       "      <td>MVKENKFSKIFILMALSFLGLALFSASLQFLPIAHMAKEFGIPAAV...</td>\n",
       "      <td>1</td>\n",
       "    </tr>\n",
       "  </tbody>\n",
       "</table>\n",
       "</div>"
      ],
      "text/plain": [
       "                                                 seq  target\n",
       "0  MTQSQETEMDTNENIRSNAQDDVIELSVASVETKGVLPIGNEFMGH...       1\n",
       "1  MAASRRLMKELEEIRKCGMKNFRNIQVDEANLLTWQGLIVPDNPPY...       0\n",
       "2  MRMSFGLTFKRTAKVHWRANFSQQCSLRSTGLFVPPSPPLDPEKVK...       0\n",
       "3  MEKQEQTFVSKISEEELKKLAGGYTEVSPQSTIVCVSLRICNWSLR...       1\n",
       "4  MVKENKFSKIFILMALSFLGLALFSASLQFLPIAHMAKEFGIPAAV...       1"
      ]
     },
     "execution_count": 14,
     "metadata": {},
     "output_type": "execute_result"
    }
   ],
   "source": [
    "df_clas.head()"
   ]
  },
  {
   "cell_type": "code",
   "execution_count": 15,
   "metadata": {},
   "outputs": [
    {
     "data": {
      "text/plain": [
       "(0.4681818181818182, 0.5079545454545454)"
      ]
     },
     "execution_count": 15,
     "metadata": {},
     "output_type": "execute_result"
    }
   ],
   "source": [
    "# a mean close to 0.5 for labels indicates a well balanced dataset\n",
    "validation['target'].describe()['mean'], training['target'].describe()['mean']"
   ]
  },
  {
   "cell_type": "code",
   "execution_count": 16,
   "metadata": {},
   "outputs": [],
   "source": [
    "# ensure balanced sets (target labels 0 and 1 each make up 45-55% of dataset)\n",
    "assert abs(validation['target'].describe()['mean']-0.5) < 0.05\n",
    "assert abs(training['target'].describe()['mean']-0.5) < 0.05"
   ]
  },
  {
   "cell_type": "markdown",
   "metadata": {},
   "source": [
    "## LANGUAGE MODEL"
   ]
  },
  {
   "cell_type": "code",
   "execution_count": 17,
   "metadata": {},
   "outputs": [],
   "source": [
    "# USEFUL FUNCTIONS\n",
    "\n",
    "def make_grams(sent, n=3):\n",
    "    \"splits a sentence into n-grams\"\n",
    "    return \" \".join([\"\".join(seq) for seq in (ngrams(sent,n))])\n",
    "\n",
    "def make_grams_ordered(sent, n=3):\n",
    "    \"splits a sentence into multiple sequences of ordered ngrams\"\n",
    "    grams = [\"\".join(seq) for seq in (ngrams(sent,n))] # make a list of joined ngrams from sentence string\n",
    "    ordered_grams =  list(np.array([[grams[j+i*n] for i in range(len(grams)//n)] for j in range(n)]).flatten()) # order n grams\n",
    "    return \" \".join(ordered_grams) # return ngrams as a string separated by spaces\n",
    "\n",
    "# def make_text_array(dataframe, n=3, col='seq'):\n",
    "#     \"Takes a dataframe of sequences, returns an array of sentences containing n-grams of those sequences, separated by spaces\"\n",
    "#     # dataframe: pandas dataframe containing aa sequences\n",
    "#     # n: n-gram value\n",
    "#     # col: column of dataframe containing sequences\n",
    "#     return np.array([[\" \".join([\"\".join(i) for i in ngrams(seq,n)])] for seq in dataframe[col].to_numpy()])\n",
    "\n",
    "def make_text(dataframe, n=3, col='seq'):\n",
    "    \"Takes a dataframe of sequences, returns an array of sentences containing n-grams of those sequences, separated by spaces\"\n",
    "    # dataframe: pandas dataframe containing aa sequences\n",
    "    # n: n-gram value\n",
    "    # col: column of dataframe containing sequences\n",
    "    return [\" \".join([\"\".join(i) for i in ngrams(seq,n)]) for seq in dataframe[col].to_numpy()]\n",
    "\n",
    "def make_ordered_text(dataframe, n=3, col='seq'):\n",
    "    \"Takes a dataframe of sequences, returns an array of sentences containing ordered n-grams of those sequences, separated by spaces\"\n",
    "    # dataframe: pandas dataframe containing aa sequences\n",
    "    # n: n-gram value\n",
    "    # col: column of dataframe containing sequences\n",
    "    return [make_grams_ordered(seq) for seq in list(dataframe[col].to_numpy().flatten())]"
   ]
  },
  {
   "cell_type": "code",
   "execution_count": 18,
   "metadata": {},
   "outputs": [
    {
     "data": {
      "text/plain": [
       "'MKL KLI LIG IGP GPT PTF TFT FTN TNT NTS TST STL TLS LSN SNS NSV'"
      ]
     },
     "execution_count": 18,
     "metadata": {},
     "output_type": "execute_result"
    }
   ],
   "source": [
    "make_grams(\"MKLIGPTFTNTSTLSNSV\")"
   ]
  },
  {
   "cell_type": "code",
   "execution_count": 19,
   "metadata": {},
   "outputs": [
    {
     "data": {
      "text/plain": [
       "'MKL IGP TFT NTS TLS KLI GPT FTN TST LSN LIG PTF TNT STL SNS'"
      ]
     },
     "execution_count": 19,
     "metadata": {},
     "output_type": "execute_result"
    }
   ],
   "source": [
    "make_grams_ordered(\"MKLIGPTFTNTSTLSNSV\")"
   ]
  },
  {
   "cell_type": "code",
   "execution_count": 20,
   "metadata": {},
   "outputs": [
    {
     "data": {
      "text/plain": [
       "'MAFSAEDVLKEYDRRRRMEALLLSLYYPNDRKLLDYKEWSPPRVQVECPKAPVEWNNPPSEKGLIVGHFSGIKYKGEKAQASEVDVNKMCCWVSKFKDAMRRYQGIQTCKIPGKVLSDLDAKIKAYNLTVEGVEGFVRYSRVTKQHVAAFLKELRHSKQYENVNLIHYILTDKRVDIQHLEKDLVKDFKALVESAHRMRQGHMINVKYILYQLLKKHGHGPDGPDILTVKTGSKGVLYDDSFRKIYTDLGWKFTPL'"
      ]
     },
     "execution_count": 20,
     "metadata": {},
     "output_type": "execute_result"
    }
   ],
   "source": [
    "df_lang[0:1]['seq'][0]"
   ]
  },
  {
   "cell_type": "code",
   "execution_count": 21,
   "metadata": {},
   "outputs": [
    {
     "data": {
      "text/plain": [
       "['MAF SAE DVL KEY DRR RRM EAL LLS LYY PND RKL LDY KEW SPP RVQ VEC PKA PVE WNN PPS EKG LIV GHF SGI KYK GEK AQA SEV DVN KMC CWV SKF KDA MRR YQG IQT CKI PGK VLS DLD AKI KAY NLT VEG VEG FVR YSR VTK QHV AAF LKE LRH SKQ YEN VNL IHY ILT DKR VDI QHL EKD LVK DFK ALV ESA HRM RQG HMI NVK YIL YQL LKK HGH GPD GPD ILT VKT GSK GVL YDD SFR KIY TDL GWK AFS AED VLK EYD RRR RME ALL LSL YYP NDR KLL DYK EWS PPR VQV ECP KAP VEW NNP PSE KGL IVG HFS GIK YKG EKA QAS EVD VNK MCC WVS KFK DAM RRY QGI QTC KIP GKV LSD LDA KIK AYN LTV EGV EGF VRY SRV TKQ HVA AFL KEL RHS KQY ENV NLI HYI LTD KRV DIQ HLE KDL VKD FKA LVE SAH RMR QGH MIN VKY ILY QLL KKH GHG PDG PDI LTV KTG SKG VLY DDS FRK IYT DLG WKF FSA EDV LKE YDR RRR MEA LLL SLY YPN DRK LLD YKE WSP PRV QVE CPK APV EWN NPP SEK GLI VGH FSG IKY KGE KAQ ASE VDV NKM CCW VSK FKD AMR RYQ GIQ TCK IPG KVL SDL DAK IKA YNL TVE GVE GFV RYS RVT KQH VAA FLK ELR HSK QYE NVN LIH YIL TDK RVD IQH LEK DLV KDF KAL VES AHR MRQ GHM INV KYI LYQ LLK KHG HGP DGP DIL TVK TGS KGV LYD DSF RKI YTD LGW KFT']"
      ]
     },
     "execution_count": 21,
     "metadata": {},
     "output_type": "execute_result"
    }
   ],
   "source": [
    "make_ordered_text(df_lang[0:1])"
   ]
  },
  {
   "cell_type": "code",
   "execution_count": 23,
   "metadata": {},
   "outputs": [
    {
     "name": "stdout",
     "output_type": "stream",
     "text": [
      "Model Training Time: 94.627 seconds\n"
     ]
    }
   ],
   "source": [
    "# TRAIN EMBEDDING\n",
    "\n",
    "s = time.time()\n",
    "\n",
    "sentences = (make_grams_ordered(sent).split(\" \") for sent in df_lang['seq'].to_numpy())\n",
    "\n",
    "# emb_model = FastText(size=200, min_count=1, sg=1)  # instantiate\n",
    "emb_model = Word2Vec(size=200, window=5, min_count=1, sg=1)  # instantiate, sg: skip-gram\n",
    "emb_model.build_vocab(sentences=sentences, update=False)\n",
    "\n",
    "sentences = (make_grams_ordered(sent).split(\" \") for sent in df_lang['seq'].to_numpy()) # reset the iterator\n",
    "emb_model.train(sentences=sentences, total_examples=100000, epochs=100)  # train\n",
    "\n",
    "print(f\"Model Training Time: {time.time()-s:.3f} seconds\")"
   ]
  },
  {
   "cell_type": "markdown",
   "metadata": {},
   "source": [
    "## CLASSIFICATION MODEL"
   ]
  },
  {
   "cell_type": "code",
   "execution_count": 24,
   "metadata": {},
   "outputs": [],
   "source": [
    "# USEFUL FUNCTIONS\n",
    "\n",
    "def word2int(words):\n",
    "    if isinstance(words, str):\n",
    "        \"Takes a string of words and returns a list of corresponding integers\"\n",
    "        seq = tok.texts_to_sequences([words])\n",
    "        return np.array(seq).flatten().tolist()\n",
    "    elif isinstance(words, typing.Iterable):\n",
    "        \"Takes a list of strings and returns a list of sequences (lists of corresponding integers)\"\n",
    "        return tok.texts_to_sequences(words)\n",
    "    else:\n",
    "        raise ValueError(f'Words were of type {type(words)} but should be either a string or list of strings')\n",
    "        \n",
    "\n",
    "def int2word(vec:typing.Iterable[typing.Any]):\n",
    "    if isinstance(vec[0], numbers.Number):\n",
    "        \"Takes a list of ints and returns a corresponding string\"\n",
    "        return \" \".join([list(tok.word_index.keys())[i-1] for i in vec])\n",
    "    elif isinstance(vec[0], typing.Iterable):\n",
    "        \"Takes an array of sequences (i.e., a 2d array) and returns an array of strings\"\n",
    "        return [int2word(i) for i in vec]\n",
    "    else:\n",
    "        raise ValueError( f'Input list should contain either ints or lists of ints, not {type(vec[0])}')\n",
    "\n",
    "def int2word_no_pad(vec:typing.Iterable[typing.Any]):\n",
    "    \"Removes padding and converts vectors of ints to strings\"\n",
    "    if isinstance(vec[0], numbers.Number):\n",
    "        \"Takes a list of ints and returns a corresponding string\"\n",
    "        return \" \".join([list(tok.word_index.keys())[i-1] for i in vec if i != 0])\n",
    "    elif isinstance(vec[0], typing.Iterable):\n",
    "        \"Takes an array of sequences (i.e., a 2d array) and returns an array of strings\"\n",
    "        return [int2word(i) for i in vec if i != 0]\n",
    "    else:\n",
    "        raise ValueError( f'Input list should contain either ints or lists of ints, not {type(vec[0])}')\n",
    "\n",
    "def show_batch(ds):\n",
    "    \"Takes a tensorflow dataset and returns a batch as a dataframe, with labels shown without padding\"\n",
    "    batch_vecs, batch_targets = next(iter(ds.batch(1)))  # iterate through dataset batches\n",
    "    batch_vecs, batch_targets = np.array(batch_vecs)[0], np.array(batch_targets)[0]  # convert tf batch to np array & reduce dimension by 1\n",
    "    return pd.DataFrame(zip(batch_vecs, [int2word_no_pad(arr) for arr in batch_vecs], batch_targets), columns=['encoding','text','target'])\n"
   ]
  },
  {
   "cell_type": "code",
   "execution_count": 25,
   "metadata": {},
   "outputs": [],
   "source": [
    "def prediction(seqs, model):\n",
    "    \"Gives a numerical prediction on a sequence using a given model\"\n",
    "    words = [make_grams_ordered(seq) for seq in seqs]\n",
    "    vecs = word2int(words)\n",
    "    vecs = tf.keras.preprocessing.sequence.pad_sequences(vecs, maxlen=maxlength, padding='post').astype('uint16')\n",
    "    return [float(pred) for pred in model.predict(vecs)]"
   ]
  },
  {
   "cell_type": "markdown",
   "metadata": {},
   "source": [
    "### NETWORK PARAMETERS"
   ]
  },
  {
   "cell_type": "code",
   "execution_count": 53,
   "metadata": {},
   "outputs": [],
   "source": [
    "# NN PARAMETERS\n",
    "\n",
    "vocab_size = 8000\n",
    "emb_dim = 200\n",
    "maxlength = 302\n",
    "\n",
    "epochs = 10\n",
    "batch_size = 64 # 32 # 16 # high batch size used due to time constraints\n",
    "buffer_size = 100*batch_size"
   ]
  },
  {
   "cell_type": "markdown",
   "metadata": {},
   "source": [
    "### PREPARE AND TRAIN"
   ]
  },
  {
   "cell_type": "code",
   "execution_count": 63,
   "metadata": {},
   "outputs": [
    {
     "name": "stdout",
     "output_type": "stream",
     "text": [
      "Epoch 1/10\n",
      "14/14 [==============================] - 15s 1s/step - loss: 0.6553 - accuracy: 0.5875 - val_loss: 0.0000e+00 - val_accuracy: 0.0000e+00\n",
      "Epoch 2/10\n",
      "14/14 [==============================] - 10s 743ms/step - loss: 3287851588.3666 - accuracy: 0.6455 - val_loss: 0.6183 - val_accuracy: 0.5955\n",
      "Epoch 3/10\n",
      "14/14 [==============================] - 10s 742ms/step - loss: 0.5818 - accuracy: 0.6932 - val_loss: 0.6045 - val_accuracy: 0.6364\n",
      "Epoch 4/10\n",
      "14/14 [==============================] - 10s 742ms/step - loss: 0.5547 - accuracy: 0.6932 - val_loss: 0.5722 - val_accuracy: 0.6955\n",
      "Epoch 5/10\n",
      "14/14 [==============================] - 10s 745ms/step - loss: 4207051.4029 - accuracy: 0.7398 - val_loss: 0.5387 - val_accuracy: 0.7091\n",
      "Epoch 6/10\n",
      "14/14 [==============================] - 10s 744ms/step - loss: 0.4547 - accuracy: 0.7784 - val_loss: 0.4885 - val_accuracy: 0.7500\n",
      "Epoch 7/10\n",
      "14/14 [==============================] - 10s 745ms/step - loss: 0.3704 - accuracy: 0.8284 - val_loss: 0.4566 - val_accuracy: 0.7591\n",
      "Epoch 8/10\n",
      "14/14 [==============================] - 10s 744ms/step - loss: 0.2698 - accuracy: 0.8807 - val_loss: 0.4161 - val_accuracy: 0.7636\n",
      "Epoch 9/10\n",
      "14/14 [==============================] - 11s 751ms/step - loss: 16238987.3612 - accuracy: 0.9023 - val_loss: 0.4422 - val_accuracy: 0.7591\n",
      "Epoch 10/10\n",
      "14/14 [==============================] - 10s 740ms/step - loss: 0.1786 - accuracy: 0.9341 - val_loss: 0.4363 - val_accuracy: 0.7955\n",
      "\n",
      "Model Training Time: 1 minutes 52.734 seconds\n",
      "Epoch 1/10\n",
      "14/14 [==============================] - 15s 1s/step - loss: 0.6556 - accuracy: 0.5784 - val_loss: 0.0000e+00 - val_accuracy: 0.0000e+00\n",
      "Epoch 2/10\n",
      "14/14 [==============================] - 10s 743ms/step - loss: 961544728.4480 - accuracy: 0.6455 - val_loss: 0.6079 - val_accuracy: 0.6591\n",
      "Epoch 3/10\n",
      "14/14 [==============================] - 10s 745ms/step - loss: 0.6069 - accuracy: 0.6136 - val_loss: 0.6142 - val_accuracy: 0.7136\n",
      "Epoch 4/10\n",
      "14/14 [==============================] - 10s 741ms/step - loss: 0.5856 - accuracy: 0.6920 - val_loss: 0.5881 - val_accuracy: 0.7273\n",
      "Epoch 5/10\n",
      "14/14 [==============================] - 10s 745ms/step - loss: 0.5485 - accuracy: 0.7330 - val_loss: 0.5539 - val_accuracy: 0.7591\n",
      "Epoch 6/10\n",
      "14/14 [==============================] - 10s 745ms/step - loss: 0.4905 - accuracy: 0.7591 - val_loss: 0.5194 - val_accuracy: 0.7864\n",
      "Epoch 7/10\n",
      "14/14 [==============================] - 10s 741ms/step - loss: 0.4539 - accuracy: 0.7920 - val_loss: 0.4702 - val_accuracy: 0.8091\n",
      "Epoch 8/10\n",
      "14/14 [==============================] - 10s 748ms/step - loss: 0.3600 - accuracy: 0.8386 - val_loss: 0.4320 - val_accuracy: 0.7955\n",
      "Epoch 9/10\n",
      "14/14 [==============================] - 10s 740ms/step - loss: 14595867.1567 - accuracy: 0.8716 - val_loss: 0.4106 - val_accuracy: 0.8364\n",
      "Epoch 10/10\n",
      "14/14 [==============================] - 10s 748ms/step - loss: 0.2614 - accuracy: 0.8864 - val_loss: 0.3906 - val_accuracy: 0.8318\n",
      "\n",
      "Model Training Time: 1 minutes 45.709 seconds\n",
      "Epoch 1/10\n",
      "14/14 [==============================] - 15s 1s/step - loss: 0.6622 - accuracy: 0.5852 - val_loss: 0.0000e+00 - val_accuracy: 0.0000e+00\n",
      "Epoch 2/10\n",
      "14/14 [==============================] - 10s 745ms/step - loss: 12305.2336 - accuracy: 0.6523 - val_loss: 0.6081 - val_accuracy: 0.6682\n",
      "Epoch 3/10\n",
      "14/14 [==============================] - 10s 744ms/step - loss: 0.5672 - accuracy: 0.6909 - val_loss: 0.5849 - val_accuracy: 0.6818\n",
      "Epoch 4/10\n",
      "14/14 [==============================] - 10s 743ms/step - loss: 0.5339 - accuracy: 0.7420 - val_loss: 0.5672 - val_accuracy: 0.6727\n",
      "Epoch 5/10\n",
      "14/14 [==============================] - 10s 744ms/step - loss: 684980.7069 - accuracy: 0.7784 - val_loss: 0.5149 - val_accuracy: 0.6909\n",
      "Epoch 6/10\n",
      "14/14 [==============================] - 10s 739ms/step - loss: 0.4054 - accuracy: 0.8080 - val_loss: 0.5044 - val_accuracy: 0.7455\n",
      "Epoch 7/10\n",
      "14/14 [==============================] - 10s 748ms/step - loss: 0.3393 - accuracy: 0.8557 - val_loss: 0.4797 - val_accuracy: 0.7500\n",
      "Epoch 8/10\n",
      "14/14 [==============================] - 10s 745ms/step - loss: 0.2381 - accuracy: 0.9045 - val_loss: 0.4586 - val_accuracy: 0.7818\n",
      "Epoch 9/10\n",
      "14/14 [==============================] - 10s 746ms/step - loss: 116261613.6371 - accuracy: 0.9193 - val_loss: 0.4885 - val_accuracy: 0.7682\n",
      "Epoch 10/10\n",
      "14/14 [==============================] - 10s 746ms/step - loss: 194870.0099 - accuracy: 0.9148 - val_loss: 0.5014 - val_accuracy: 0.7636\n",
      "\n",
      "Model Training Time: 1 minutes 38.458 seconds\n",
      "Epoch 1/10\n",
      "14/14 [==============================] - 15s 1s/step - loss: 0.6529 - accuracy: 0.6102 - val_loss: 0.0000e+00 - val_accuracy: 0.0000e+00\n",
      "Epoch 2/10\n",
      "14/14 [==============================] - 10s 743ms/step - loss: 1316682274.1844 - accuracy: 0.6682 - val_loss: 0.6082 - val_accuracy: 0.5864\n",
      "Epoch 3/10\n",
      "14/14 [==============================] - 10s 740ms/step - loss: 0.5809 - accuracy: 0.6659 - val_loss: 0.5707 - val_accuracy: 0.6909\n",
      "Epoch 4/10\n",
      "14/14 [==============================] - 10s 741ms/step - loss: 0.5706 - accuracy: 0.7000 - val_loss: 0.5645 - val_accuracy: 0.6455\n",
      "Epoch 5/10\n",
      "14/14 [==============================] - 10s 747ms/step - loss: 0.5232 - accuracy: 0.7455 - val_loss: 0.5270 - val_accuracy: 0.7727\n",
      "Epoch 6/10\n",
      "14/14 [==============================] - 10s 747ms/step - loss: 0.4899 - accuracy: 0.7500 - val_loss: 0.4921 - val_accuracy: 0.7818\n",
      "Epoch 7/10\n",
      "14/14 [==============================] - 10s 739ms/step - loss: 0.3856 - accuracy: 0.8420 - val_loss: 0.4104 - val_accuracy: 0.8318\n",
      "Epoch 8/10\n",
      "14/14 [==============================] - 10s 744ms/step - loss: 0.3318 - accuracy: 0.8500 - val_loss: 0.3919 - val_accuracy: 0.8273\n",
      "Epoch 9/10\n",
      "14/14 [==============================] - 10s 741ms/step - loss: 63818710.7585 - accuracy: 0.8920 - val_loss: 0.3802 - val_accuracy: 0.8227\n",
      "Epoch 10/10\n",
      "14/14 [==============================] - 10s 742ms/step - loss: 0.1932 - accuracy: 0.9239 - val_loss: 0.4066 - val_accuracy: 0.8045\n",
      "\n",
      "Model Training Time: 1 minutes 31.325 seconds\n",
      "Epoch 1/10\n",
      "14/14 [==============================] - 15s 1s/step - loss: 0.6585 - accuracy: 0.5648 - val_loss: 0.0000e+00 - val_accuracy: 0.0000e+00\n",
      "Epoch 2/10\n",
      "14/14 [==============================] - 10s 748ms/step - loss: 255412073.2735 - accuracy: 0.6511 - val_loss: 0.5947 - val_accuracy: 0.6636\n",
      "Epoch 3/10\n",
      "14/14 [==============================] - 10s 742ms/step - loss: 21028189.5591 - accuracy: 0.6852 - val_loss: 0.5853 - val_accuracy: 0.6773\n",
      "Epoch 4/10\n",
      "14/14 [==============================] - 10s 748ms/step - loss: 0.5782 - accuracy: 0.6909 - val_loss: 0.5785 - val_accuracy: 0.7318\n",
      "Epoch 5/10\n",
      "14/14 [==============================] - 10s 743ms/step - loss: 0.5401 - accuracy: 0.7409 - val_loss: 0.5467 - val_accuracy: 0.7636\n",
      "Epoch 6/10\n",
      "14/14 [==============================] - 10s 743ms/step - loss: 0.4881 - accuracy: 0.7625 - val_loss: 0.4885 - val_accuracy: 0.7591\n",
      "Epoch 7/10\n",
      "14/14 [==============================] - 10s 745ms/step - loss: 0.3961 - accuracy: 0.8284 - val_loss: 0.4500 - val_accuracy: 0.7591\n",
      "Epoch 8/10\n",
      "14/14 [==============================] - 10s 746ms/step - loss: 0.3227 - accuracy: 0.8614 - val_loss: 0.4822 - val_accuracy: 0.7455\n",
      "Epoch 9/10\n",
      "14/14 [==============================] - 10s 745ms/step - loss: 0.2302 - accuracy: 0.9068 - val_loss: 0.4455 - val_accuracy: 0.7545\n",
      "Epoch 10/10\n",
      "14/14 [==============================] - 10s 749ms/step - loss: 0.1841 - accuracy: 0.9205 - val_loss: 0.4709 - val_accuracy: 0.7591\n",
      "\n",
      "Model Training Time: 1 minutes 24.318 seconds\n",
      "\n",
      " Total Training Time: 9 minutes 24.318 seconds\n"
     ]
    }
   ],
   "source": [
    "runtime = time.time()\n",
    "\n",
    "# ------------------------------------------\n",
    "# PREPARE EMBEDDING MATRIX\n",
    "# ------------------------------------------\n",
    "\n",
    "embedding_matrix = np.zeros((vocab_size+1, emb_dim))\n",
    "\n",
    "for i, word in enumerate(list(tok.word_index.keys())):\n",
    "    if i >= vocab_size:\n",
    "        break # continue\n",
    "    if word.upper() in emb_model.wv.vocab:\n",
    "        embedding_matrix[i] = emb_model.wv[word.upper()] # add embedding vector to matrix\n",
    "\n",
    "\n",
    "\n",
    "# initialize stuff for ROC curve\n",
    "tprs, fprs, tprs_interp = [], [], [] # true positive rates, false positive rates\n",
    "base_fpr = np.linspace(0, 1, 101)\n",
    "confs = [] # confusion matrices\n",
    "\n",
    "for fold in range(splits):\n",
    "    validation = valids[fold]\n",
    "    training = trains[fold]\n",
    "    \n",
    "    traintime = time.time()\n",
    "\n",
    "    # ------------------------------------------\n",
    "    # VECTORIZE DATASET\n",
    "    # ------------------------------------------\n",
    "\n",
    "    text = make_ordered_text(df_lang[0:10000])\n",
    "\n",
    "    tok = Tokenizer(num_words=vocab_size, oov_token='<unk>')\n",
    "\n",
    "    tok.fit_on_texts(text)\n",
    "\n",
    "    tok.word_index['<pad>'] = 0\n",
    "    tok.index_word[0] = '<pad>'\n",
    "\n",
    "    # pad vectors to maxlength\n",
    "    train_text = make_ordered_text(training)\n",
    "    train_seqs = tok.texts_to_sequences(train_text)\n",
    "\n",
    "    # maxlength = max(len(i) for i in train_seqs)\n",
    "\n",
    "    train_seqs = tf.keras.preprocessing.sequence.pad_sequences(train_seqs, maxlen=maxlength, padding='post')\n",
    "\n",
    "    train_labels = training['target'].to_numpy().flatten()\n",
    "\n",
    "    # pad vectors to maxlength (don't calculate automatically, or valid set will be of different size)\n",
    "    valid_text = make_ordered_text(validation)\n",
    "    valid_seqs = tok.texts_to_sequences(valid_text)\n",
    "    valid_seqs = tf.keras.preprocessing.sequence.pad_sequences(valid_seqs, maxlen=maxlength, padding='post')\n",
    "\n",
    "    valid_labels = validation['target'].to_numpy().flatten()\n",
    "\n",
    "\n",
    "    # Use lowest possible types to speed up training\n",
    "    train_seqs = train_seqs.astype('uint16')\n",
    "    valid_seqs = valid_seqs.astype('uint16')\n",
    "    train_labels = train_labels.astype('bool')\n",
    "    valid_labels = valid_labels.astype('bool') # uint8 or bool?\n",
    "\n",
    "\n",
    "    # Convert to TF dataset format\n",
    "    train_ds = tf.data.Dataset.from_tensor_slices((train_seqs,train_labels))\n",
    "    valid_ds = tf.data.Dataset.from_tensor_slices((valid_seqs,valid_labels))\n",
    "\n",
    "\n",
    "    # ------------------------------------------\n",
    "    # COMPILE MODEL\n",
    "    # ------------------------------------------\n",
    "\n",
    "    model = tf.keras.Sequential([\n",
    "        layers.Embedding(vocab_size+1, emb_dim, weights=[embedding_matrix], input_length=maxlength, trainable=True),\n",
    "    #     layers.Conv1D(filters=16, kernel_size=3, padding='valid'),\n",
    "    #     layers.MaxPool1D(),\n",
    "        layers.Bidirectional(layers.GRU(emb_dim//2,dropout=0.5, recurrent_dropout=0.1, return_sequences=True)),\n",
    "        layers.Bidirectional(layers.GRU(emb_dim//2,dropout=0.7, recurrent_dropout=0.1, return_sequences=False)),\n",
    "        layers.Dense(1, activation='sigmoid')\n",
    "    ])\n",
    "\n",
    "    model.compile(optimizer='adam',\n",
    "                  loss='binary_crossentropy', # categorical_crossentropy for multilabel classification\n",
    "                  metrics=['accuracy'])\n",
    "\n",
    "    # model.summary()\n",
    "\n",
    "\n",
    "    # ------------------------------------------\n",
    "    # SHUFFLE AND BATCH DATASETS\n",
    "    # ------------------------------------------\n",
    "\n",
    "    train_batch = train_ds.shuffle(buffer_size).batch(batch_size)\n",
    "    valid_batch = valid_ds.shuffle(buffer_size).batch(batch_size)\n",
    "    train_prefetch = train_batch.prefetch(buffer_size=tf.data.experimental.AUTOTUNE) # prefetch speeds up training\n",
    "    valid_prefetch = valid_batch.prefetch(buffer_size=tf.data.experimental.AUTOTUNE)\n",
    "\n",
    "\n",
    "    # ------------------------------------------\n",
    "    # TRAIN MODEL\n",
    "    # ------------------------------------------\n",
    "\n",
    "    history = model.fit(\n",
    "        train_prefetch,\n",
    "        epochs=epochs,\n",
    "        validation_data=valid_prefetch, \n",
    "    #     validation_steps=10,\n",
    "    #     steps_per_epoch=14,\n",
    "        callbacks = [] # [tf.keras.callbacks.ReduceLROnPlateau()] # cp_callback not used\n",
    "        )\n",
    "\n",
    "    # Save Model\n",
    "    # model.save_weights(str(checkpoint_path)) # save weights\n",
    "\n",
    "\n",
    "    # ------------------------------------------\n",
    "    # GET PREDICTIONS\n",
    "    # ------------------------------------------\n",
    "\n",
    "    seqs_valid = validation.to_numpy()[:,0]\n",
    "    targets_valid = validation.to_numpy()[:,1].astype('int')\n",
    "\n",
    "    preds = prediction(seqs=seqs_valid, model=model)\n",
    "    preds = np.array(preds).astype('float32')\n",
    "\n",
    "\n",
    "    # ------------------------------------------\n",
    "    # ROC CURVE\n",
    "    # ------------------------------------------\n",
    "\n",
    "    fpr, tpr, thresholds = metrics.roc_curve(targets_valid, preds, pos_label=1)\n",
    "    roc_auc = metrics.auc(fpr, tpr)\n",
    "\n",
    "    tprs += [tpr]\n",
    "    fprs += [fpr]\n",
    "    tpr[0] = 0.0\n",
    "    tprs_interp += [np.interp(base_fpr, fpr, tpr)] # ensure sizes match\n",
    "\n",
    "\n",
    "    # ------------------------------------------\n",
    "    # CALCULATE CLASSIFICATION THRESHOLD\n",
    "    # ------------------------------------------\n",
    "\n",
    "    precision, recall_val, thresholds = metrics.precision_recall_curve(targets_valid, preds, pos_label=1)\n",
    "    recall_val = np.asarray(recall_val)\n",
    "    idx = (np.abs(recall_val - min_recall)).argmin() # Find nearest threshold\n",
    "    thresh = thresholds[idx]\n",
    "\n",
    "\n",
    "    # ------------------------------------------\n",
    "    # OBTAIN CONFUSION MATRIX\n",
    "    # ------------------------------------------\n",
    "\n",
    "    predict_label = [1 if pred >= thresh else 0 for pred in preds]\n",
    "    conf_mat = confusion_matrix(targets_valid, predict_label)\n",
    "    TN, FP, FN, TP = conf_mat.flatten()\n",
    "\n",
    "    conf = [TN, FP, FN, TP]\n",
    "    confs += [conf]\n",
    "\n",
    "    print(f\"\\nModel Training Time: {(time.time()-traintime)//60:.0f} minutes {(time.time()-runtime) % 60:.3f} seconds\")\n",
    "\n",
    "print(f\"\\n Total Training Time: {(time.time()-runtime)//60:.0f} minutes {(time.time()-runtime) % 60:.3f} seconds\")"
   ]
  },
  {
   "cell_type": "code",
   "execution_count": 77,
   "metadata": {},
   "outputs": [],
   "source": [
    "# Save Model\n",
    "# model.save_weights(str(checkpoint_path)) # save weights"
   ]
  },
  {
   "cell_type": "code",
   "execution_count": 74,
   "metadata": {},
   "outputs": [
    {
     "data": {
      "text/html": [
       "<div>\n",
       "<style scoped>\n",
       "    .dataframe tbody tr th:only-of-type {\n",
       "        vertical-align: middle;\n",
       "    }\n",
       "\n",
       "    .dataframe tbody tr th {\n",
       "        vertical-align: top;\n",
       "    }\n",
       "\n",
       "    .dataframe thead th {\n",
       "        text-align: right;\n",
       "    }\n",
       "</style>\n",
       "<table border=\"1\" class=\"dataframe\">\n",
       "  <thead>\n",
       "    <tr style=\"text-align: right;\">\n",
       "      <th></th>\n",
       "      <th>encoding</th>\n",
       "      <th>text</th>\n",
       "      <th>target</th>\n",
       "    </tr>\n",
       "  </thead>\n",
       "  <tbody>\n",
       "    <tr>\n",
       "      <td>0</td>\n",
       "      <td>[5798, 1095, 1451, 1105, 2436, 941, 2161, 50, ...</td>\n",
       "      <td>mdn kva knv evk kgs ika tfk aav lks ktk vdi gg...</td>\n",
       "      <td>True</td>\n",
       "    </tr>\n",
       "    <tr>\n",
       "      <td>1</td>\n",
       "      <td>[5, 5, 1306, 1068, 2003, 1685, 7903, 3370, 317...</td>\n",
       "      <td>lla lla lay vap ste dsg wcy eiq tkd prs scl gp...</td>\n",
       "      <td>False</td>\n",
       "    </tr>\n",
       "    <tr>\n",
       "      <td>2</td>\n",
       "      <td>[3880, 1143, 5873, 6189, 3913, 911, 3293, 965,...</td>\n",
       "      <td>mda tai her wsv msn asi gqe igv egl tgl dvd al...</td>\n",
       "      <td>True</td>\n",
       "    </tr>\n",
       "    <tr>\n",
       "      <td>3</td>\n",
       "      <td>[1096, 3330, 4588, 4036, 1918, 5213, 1597, 531...</td>\n",
       "      <td>aep rpp hge lqy lgq iqh ilr cgv rkd drt gtg tl...</td>\n",
       "      <td>False</td>\n",
       "    </tr>\n",
       "    <tr>\n",
       "      <td>4</td>\n",
       "      <td>[4425, 1126, 5068, 1286, 2044, 283, 1312, 4440...</td>\n",
       "      <td>mgk tad nhg pvr set are gre nqv ysp vtg arl va...</td>\n",
       "      <td>False</td>\n",
       "    </tr>\n",
       "    <tr>\n",
       "      <td>...</td>\n",
       "      <td>...</td>\n",
       "      <td>...</td>\n",
       "      <td>...</td>\n",
       "    </tr>\n",
       "    <tr>\n",
       "      <td>59</td>\n",
       "      <td>[3867, 736, 1784, 2850, 424, 720, 2115, 225, 4...</td>\n",
       "      <td>mnk kni lpq qgq pvi rlt agq lss qla els eea lg...</td>\n",
       "      <td>True</td>\n",
       "    </tr>\n",
       "    <tr>\n",
       "      <td>60</td>\n",
       "      <td>[1589, 1896, 5345, 3820, 1723, 446, 1048, 867,...</td>\n",
       "      <td>gpv lye dpp dqk tsp sgk sat lki csw nvd glr aw...</td>\n",
       "      <td>False</td>\n",
       "    </tr>\n",
       "    <tr>\n",
       "      <td>61</td>\n",
       "      <td>[6259, 1153, 3955, 74, 1478, 2524, 6196, 5600,...</td>\n",
       "      <td>mkm ksi yfi agl llm ivq gsw qnp lqd tee ksr sf...</td>\n",
       "      <td>False</td>\n",
       "    </tr>\n",
       "    <tr>\n",
       "      <td>62</td>\n",
       "      <td>[3105, 2562, 74, 1947, 315, 2626, 2775, 1267, ...</td>\n",
       "      <td>mke iqk agl qee lsi lmd dan nle qlt agi gtt vv...</td>\n",
       "      <td>True</td>\n",
       "    </tr>\n",
       "    <tr>\n",
       "      <td>63</td>\n",
       "      <td>[853, 16, 668, 1543, 1803, 1869, 1965, 1491, 1...</td>\n",
       "      <td>mal lae hll kpl pad kqi etg pfl eav shl ppf fd...</td>\n",
       "      <td>False</td>\n",
       "    </tr>\n",
       "  </tbody>\n",
       "</table>\n",
       "<p>64 rows × 3 columns</p>\n",
       "</div>"
      ],
      "text/plain": [
       "                                             encoding  \\\n",
       "0   [5798, 1095, 1451, 1105, 2436, 941, 2161, 50, ...   \n",
       "1   [5, 5, 1306, 1068, 2003, 1685, 7903, 3370, 317...   \n",
       "2   [3880, 1143, 5873, 6189, 3913, 911, 3293, 965,...   \n",
       "3   [1096, 3330, 4588, 4036, 1918, 5213, 1597, 531...   \n",
       "4   [4425, 1126, 5068, 1286, 2044, 283, 1312, 4440...   \n",
       "..                                                ...   \n",
       "59  [3867, 736, 1784, 2850, 424, 720, 2115, 225, 4...   \n",
       "60  [1589, 1896, 5345, 3820, 1723, 446, 1048, 867,...   \n",
       "61  [6259, 1153, 3955, 74, 1478, 2524, 6196, 5600,...   \n",
       "62  [3105, 2562, 74, 1947, 315, 2626, 2775, 1267, ...   \n",
       "63  [853, 16, 668, 1543, 1803, 1869, 1965, 1491, 1...   \n",
       "\n",
       "                                                 text  target  \n",
       "0   mdn kva knv evk kgs ika tfk aav lks ktk vdi gg...    True  \n",
       "1   lla lla lay vap ste dsg wcy eiq tkd prs scl gp...   False  \n",
       "2   mda tai her wsv msn asi gqe igv egl tgl dvd al...    True  \n",
       "3   aep rpp hge lqy lgq iqh ilr cgv rkd drt gtg tl...   False  \n",
       "4   mgk tad nhg pvr set are gre nqv ysp vtg arl va...   False  \n",
       "..                                                ...     ...  \n",
       "59  mnk kni lpq qgq pvi rlt agq lss qla els eea lg...    True  \n",
       "60  gpv lye dpp dqk tsp sgk sat lki csw nvd glr aw...   False  \n",
       "61  mkm ksi yfi agl llm ivq gsw qnp lqd tee ksr sf...   False  \n",
       "62  mke iqk agl qee lsi lmd dan nle qlt agi gtt vv...    True  \n",
       "63  mal lae hll kpl pad kqi etg pfl eav shl ppf fd...   False  \n",
       "\n",
       "[64 rows x 3 columns]"
      ]
     },
     "execution_count": 74,
     "metadata": {},
     "output_type": "execute_result"
    }
   ],
   "source": [
    "show_batch(valid_prefetch)"
   ]
  },
  {
   "cell_type": "markdown",
   "metadata": {},
   "source": [
    "## RESULTS"
   ]
  },
  {
   "cell_type": "code",
   "execution_count": 64,
   "metadata": {},
   "outputs": [
    {
     "data": {
      "image/png": "[encoded data removed]",
      "text/plain": [
       "<Figure size 432x288 with 1 Axes>"
      ]
     },
     "metadata": {
      "needs_background": "light"
     },
     "output_type": "display_data"
    }
   ],
   "source": [
    "# OVERALL ROC CURVE\n",
    "\n",
    "# path = Path('data/output')\n",
    "# img_filename = f'{project_name}_ROC.png'\n",
    "\n",
    "lw = 2\n",
    "plt.figure()\n",
    "plt.plot([0, 1], [0, 1], color='navy', lw=lw, linestyle='--', alpha=0.15)\n",
    "# plt.axes().set_aspect('equal', 'datalim')\n",
    "\n",
    "for s in range(len(fprs)):\n",
    "    fpr = fprs[s]\n",
    "    tpr = tprs[s]\n",
    "    plt.plot(fpr, tpr, color='blue',lw=lw, alpha=0.14)\n",
    "\n",
    "mean_tprs = np.array(tprs_interp).mean(axis=0)\n",
    "std = np.array(tprs_interp).std(axis=0)\n",
    "\n",
    "tprs_upper = np.minimum(mean_tprs + std, 1)\n",
    "tprs_lower = mean_tprs - std\n",
    "\n",
    "plt.plot(base_fpr, mean_tprs, 'black', lw=2,label=f'ROC curve (area = {roc_auc: 0.2f})')\n",
    "plt.fill_between(base_fpr, tprs_lower, tprs_upper, color='grey', alpha=0.2)\n",
    "\n",
    "\n",
    "plt.xlabel('(1–Specificity) - False Positive Rate')\n",
    "plt.ylabel('Sensitivity - True Positive Rate')\n",
    "plt.title(f'Receiver Operating Characteristic')\n",
    "plt.legend(loc=\"lower right\")\n",
    "plt.xlim([0.0, 1.0])\n",
    "plt.ylim([0.0, 1.05])\n",
    "\n",
    "# save file\n",
    "# plt.savefig(path/img_filename, bbox_inches='tight')\n",
    "\n",
    "plt.show()"
   ]
  },
  {
   "cell_type": "code",
   "execution_count": 65,
   "metadata": {},
   "outputs": [
    {
     "data": {
      "text/plain": [
       "[[74, 43, 10, 93],\n",
       " [75, 28, 12, 105],\n",
       " [39, 66, 11, 104],\n",
       " [89, 34, 10, 87],\n",
       " [56, 46, 12, 106]]"
      ]
     },
     "execution_count": 65,
     "metadata": {},
     "output_type": "execute_result"
    }
   ],
   "source": [
    "confs # confusion matrices for each fold"
   ]
  },
  {
   "cell_type": "code",
   "execution_count": 70,
   "metadata": {},
   "outputs": [
    {
     "data": {
      "text/plain": [
       "array([333, 217,  55, 495])"
      ]
     },
     "execution_count": 70,
     "metadata": {},
     "output_type": "execute_result"
    }
   ],
   "source": [
    "summed_confusion_matrix = np.sum(confs, axis=0)\n",
    "summed_confusion_matrix"
   ]
  },
  {
   "cell_type": "code",
   "execution_count": 71,
   "metadata": {},
   "outputs": [],
   "source": [
    "# OVERALL RESULTS\n",
    "\n",
    "results = []\n",
    "name = 'overall'\n",
    "\n",
    "results_names = ['dataframe', 'sensitivity', 'specificity', 'accuracy', 'PPV', 'NPV', 'F1', 'odds_ratio', 'TN', 'FP', 'FN', 'TP', 'total']\n",
    "\n",
    "TN, FP, FN, TP = summed_confusion_matrix\n",
    "\n",
    "PPV = TP / (TP + FP) if (TP+FP != 0) else 0 # positive predict value\n",
    "NPV = TN / (TN + FN) if (TN+FN != 0) else 0 # negative predict value\n",
    "F1 = 2*TP / (2*TP + FP + FN) #\n",
    "accuracy = (TP + TN) / (TP + TN + FP + FN)\n",
    "sensitivity = TP /(TP + FN) if (TP+FN != 0) else 0\n",
    "specificity = TN /(TN + FP) if (TN+FP != 0) else 0\n",
    "odds_ratio = (TP * TN) /(FP * FN) if (FP*FN != 0) else 0\n",
    "total = FN+FP+TN+TP\n",
    "\n",
    "results += [[name, sensitivity, specificity, accuracy, PPV, NPV, F1, odds_ratio, TN, FP, FN, TP, total]]"
   ]
  },
  {
   "cell_type": "code",
   "execution_count": 72,
   "metadata": {},
   "outputs": [
    {
     "data": {
      "text/html": [
       "<div>\n",
       "<style scoped>\n",
       "    .dataframe tbody tr th:only-of-type {\n",
       "        vertical-align: middle;\n",
       "    }\n",
       "\n",
       "    .dataframe tbody tr th {\n",
       "        vertical-align: top;\n",
       "    }\n",
       "\n",
       "    .dataframe thead th {\n",
       "        text-align: right;\n",
       "    }\n",
       "</style>\n",
       "<table border=\"1\" class=\"dataframe\">\n",
       "  <thead>\n",
       "    <tr style=\"text-align: right;\">\n",
       "      <th></th>\n",
       "      <th>dataframe</th>\n",
       "      <th>sensitivity</th>\n",
       "      <th>specificity</th>\n",
       "      <th>accuracy</th>\n",
       "      <th>PPV</th>\n",
       "      <th>NPV</th>\n",
       "      <th>F1</th>\n",
       "      <th>odds_ratio</th>\n",
       "      <th>TN</th>\n",
       "      <th>FP</th>\n",
       "      <th>FN</th>\n",
       "      <th>TP</th>\n",
       "      <th>total</th>\n",
       "    </tr>\n",
       "  </thead>\n",
       "  <tbody>\n",
       "    <tr>\n",
       "      <td>0</td>\n",
       "      <td>overall</td>\n",
       "      <td>0.9</td>\n",
       "      <td>0.605455</td>\n",
       "      <td>0.752727</td>\n",
       "      <td>0.695225</td>\n",
       "      <td>0.858247</td>\n",
       "      <td>0.784469</td>\n",
       "      <td>13.81106</td>\n",
       "      <td>333</td>\n",
       "      <td>217</td>\n",
       "      <td>55</td>\n",
       "      <td>495</td>\n",
       "      <td>1100</td>\n",
       "    </tr>\n",
       "  </tbody>\n",
       "</table>\n",
       "</div>"
      ],
      "text/plain": [
       "  dataframe  sensitivity  specificity  accuracy       PPV       NPV        F1  \\\n",
       "0   overall          0.9     0.605455  0.752727  0.695225  0.858247  0.784469   \n",
       "\n",
       "   odds_ratio   TN   FP  FN   TP  total  \n",
       "0    13.81106  333  217  55  495   1100  "
      ]
     },
     "execution_count": 72,
     "metadata": {},
     "output_type": "execute_result"
    }
   ],
   "source": [
    "res_df = pd.DataFrame(data=results, columns=results_names)\n",
    "res_df"
   ]
  },
  {
   "cell_type": "code",
   "execution_count": null,
   "metadata": {},
   "outputs": [],
   "source": []
  }
 ],
 "metadata": {
  "kernelspec": {
   "display_name": "Python 3",
   "language": "python",
   "name": "python3"
  },
  "language_info": {
   "codemirror_mode": {
    "name": "ipython",
    "version": 3
   },
   "file_extension": ".py",
   "mimetype": "text/x-python",
   "name": "python",
   "nbconvert_exporter": "python",
   "pygments_lexer": "ipython3",
   "version": "3.7.4"
  }
 },
 "nbformat": 4,
 "nbformat_minor": 2
}
